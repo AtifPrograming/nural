{
 "cells": [
  {
   "cell_type": "code",
   "execution_count": 1,
   "id": "d8120f6b",
   "metadata": {},
   "outputs": [],
   "source": [
    "import numpy as np\n",
    "class Nural:\n",
    "    def __init__(self,layers):\n",
    "        self.layers = layers\n",
    "        self.weights=[]\n",
    "        self.activation=[]\n",
    "        self.z=[]\n",
    "        self.z2=[]\n",
    "        self.y=[]\n",
    "    def sigmoid(self,x):\n",
    "        return (1/(1+np.exp(-x)))\n",
    "    def initialize(self):\n",
    "        W1= np.random.randn(self.layers[1],self.layers[0])\n",
    "        W2= np.random.randn(self.layers[2],self.layers[1])\n",
    "        self.weights=[W1,W2]\n",
    "    def forward(self,X):\n",
    "        self.z= np.dot(self.weights[0],X)\n",
    "        self.activation=self.sigmoid(self.z)\n",
    "        self.z2= np.dot(self.weights[1],self.activation)\n",
    "        self.y=sigmoid(self.z2)\n",
    "        \n",
    "        \n",
    "        "
   ]
  },
  {
   "cell_type": "code",
   "execution_count": null,
   "id": "b56b3f5e",
   "metadata": {},
   "outputs": [],
   "source": []
  }
 ],
 "metadata": {
  "kernelspec": {
   "display_name": "Python 3 (ipykernel)",
   "language": "python",
   "name": "python3"
  },
  "language_info": {
   "codemirror_mode": {
    "name": "ipython",
    "version": 3
   },
   "file_extension": ".py",
   "mimetype": "text/x-python",
   "name": "python",
   "nbconvert_exporter": "python",
   "pygments_lexer": "ipython3",
   "version": "3.9.7"
  }
 },
 "nbformat": 4,
 "nbformat_minor": 5
}
